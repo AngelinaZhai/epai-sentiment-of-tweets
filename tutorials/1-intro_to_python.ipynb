{
 "cells": [
  {
   "cell_type": "markdown",
   "metadata": {},
   "source": [
    "# Tutorial 1 - Introduction to Python Programming\n"
   ]
  },
  {
   "cell_type": "markdown",
   "metadata": {},
   "source": [
    "For this tutorial, we will be going over the essentials of Python programming to catch you up to speed and get ready for deep learning implementation."
   ]
  },
  {
   "cell_type": "markdown",
   "metadata": {},
   "source": [
    "## Part 1 - Variable Types"
   ]
  },
  {
   "cell_type": "markdown",
   "metadata": {},
   "source": [
    "### Basic Definitions\n",
    "\n",
    "In every programming language, there are many different variable types. \n",
    "\n",
    "In Python, there are 4 main variable types: integers, floats, strings, and booleans.\n",
    "\n",
    "Integers are whole numbers, floats are decimal numbers, strings are text, and booleans are True or False."
   ]
  },
  {
   "cell_type": "code",
   "execution_count": 1,
   "metadata": {},
   "outputs": [
    {
     "name": "stdout",
     "output_type": "stream",
     "text": [
      "<class 'int'>\n",
      "<class 'float'>\n",
      "<class 'str'>\n",
      "<class 'bool'>\n"
     ]
    }
   ],
   "source": [
    "# In Python, you can use the type() function to find out what type a variable is.\n",
    "\n",
    "# Integers\n",
    "x = 1\n",
    "print(type(x))\n",
    "\n",
    "# Floats\n",
    "y = 1.0\n",
    "print(type(y))\n",
    "\n",
    "# Strings\n",
    "z = \"1\"\n",
    "print(type(z))\n",
    "\n",
    "# Booleans\n",
    "a = True\n",
    "print(type(a))\n",
    "\n",
    "# Note that we use # symbols to comment our code. (ie. the computer ignores these lines)\n",
    "# This is useful for explaining what your code does, or for temporarily disabling code for testing.\n",
    "\n",
    "# We also use = to assign value to variables. This is different to the comparators == and !=, which we will see later.\n"
   ]
  },
  {
   "cell_type": "markdown",
   "metadata": {},
   "source": [
    "### Variable Operations"
   ]
  },
  {
   "cell_type": "code",
   "execution_count": 2,
   "metadata": {},
   "outputs": [
    {
     "name": "stdout",
     "output_type": "stream",
     "text": [
      "5\n",
      "-2\n",
      "63\n",
      "5.846153846153846\n"
     ]
    }
   ],
   "source": [
    "# We can perform mathematical operations on integers and floats.\n",
    "# Addition\n",
    "print(2 + 3)\n",
    "\n",
    "# Subtraction\n",
    "print(1 - 3)\n",
    "\n",
    "# Multiplication\n",
    "print(9 * 7)\n",
    "\n",
    "# Division\n",
    "print(76 / 13) #in some versions of Python, int/int will return a floored int. In others, it will return a float. Always check your results!\n"
   ]
  },
  {
   "cell_type": "code",
   "execution_count": 3,
   "metadata": {},
   "outputs": [
    {
     "name": "stdout",
     "output_type": "stream",
     "text": [
      "3.0\n",
      "8.0\n",
      "1.0\n",
      "1.0\n"
     ]
    }
   ],
   "source": [
    "#The built-in Python math library has many useful functions.\n",
    "# Import the math library\n",
    "import math\n",
    "\n",
    "# Square root\n",
    "print(math.sqrt(9))\n",
    "\n",
    "# Exponentiation\n",
    "print(math.pow(2, 3))\n",
    "\n",
    "# Logarithm\n",
    "print(math.log(10, 10))\n",
    "\n",
    "# Trigonometry\n",
    "print(math.sin(math.pi / 2))\n",
    "\n",
    "# Note that we use the dot operator to access functions in libraries."
   ]
  },
  {
   "cell_type": "code",
   "execution_count": 5,
   "metadata": {},
   "outputs": [
    {
     "name": "stdout",
     "output_type": "stream",
     "text": [
      "1\n",
      "1.0\n",
      "1\n",
      "True\n",
      "False\n"
     ]
    }
   ],
   "source": [
    "# Python has built-in functions for converting between variable types.\n",
    "# Convert to int\n",
    "print(int(4.0))\n",
    "# int(3.6) will return 3, not 4. This is because int() floors the number.\n",
    "\n",
    "# Convert to float\n",
    "print(float(9))\n",
    "\n",
    "# Convert to string\n",
    "print(str(1))\n",
    "\n",
    "# Convert to boolean\n",
    "print(bool(23))\n",
    "print(bool(0))\n",
    "# Note that 0 is False, and everything else is True.\n",
    "\n",
    "# Any other types of typcasting will work as long as the operation makes logical sense."
   ]
  },
  {
   "cell_type": "markdown",
   "metadata": {},
   "source": [
    "### Data Structures\n",
    "\n",
    "There are built-in Python data structures called lists and dictionaries. These are very useful for storing data.\n"
   ]
  },
  {
   "cell_type": "code",
   "execution_count": null,
   "metadata": {},
   "outputs": [],
   "source": [
    "# Lists are ordered sequences of values. They can contain any type of variable, and can be indexed and sliced.\n",
    "# Create a list\n",
    "my_list = [1, 2, 3, 4, 5]\n",
    "print(my_list)\n",
    "\n",
    "# Indexing\n",
    "print(my_list[0]) #first element\n",
    "print(my_list[4]) #last element\n",
    "\n",
    "# Slicing\n",
    "print(my_list[1:3]) #elements 1 and 2\n",
    "print(my_list[2:]) #elements 2 to the end\n",
    "print(my_list[:3]) #elements 0 to 2\n",
    "\n",
    "# Lists are mutable, meaning that you can change their values.\n",
    "my_list[0] = 6\n",
    "print(my_list)\n",
    "\n",
    "# Lists can also be nested.\n",
    "my_list = [1, 2, [3, 4], 5]\n",
    "print(my_list[2][1]) #prints 4"
   ]
  },
  {
   "cell_type": "markdown",
   "metadata": {},
   "source": [
    "Dictionary is a collection of key-value pairs. They are unordered, and can be indexed by their keys."
   ]
  },
  {
   "cell_type": "code",
   "execution_count": null,
   "metadata": {},
   "outputs": [],
   "source": [
    "# Create a dictionary\n",
    "my_dict = {\"a\": 1, \"b\": 2, \"c\": 3}\n",
    "print(my_dict)\n",
    "\n",
    "# Indexing\n",
    "print(my_dict[\"a\"])\n",
    "\n",
    "# Dictionaries are also mutable\n",
    "my_dict[\"a\"] = 4\n",
    "print(my_dict)\n",
    "\n",
    "# Dictionaries can also be nested.\n",
    "my_dict = {\"a\": 1, \"b\": 2, \"c\": {\"d\": 3, \"e\": 4}}\n",
    "print(my_dict[\"c\"][\"e\"]) #prints 4\n"
   ]
  },
  {
   "cell_type": "markdown",
   "metadata": {},
   "source": [
    "Another type of data structure you will see sometimes during deep learning implementation is tuples.\n",
    "\n",
    "Tuples are ordered sequences of values. They can contain any type of variable, and can be indexed and sliced.\n",
    "\n",
    "However, keep in mind that they are **IMMUTABLE**, thus they are less frequently used for implementation unless we want to protect the data."
   ]
  },
  {
   "cell_type": "code",
   "execution_count": 6,
   "metadata": {},
   "outputs": [
    {
     "name": "stdout",
     "output_type": "stream",
     "text": [
      "(1, 2, 3, 4, 5)\n",
      "1\n",
      "5\n",
      "(2, 3)\n",
      "(3, 4, 5)\n"
     ]
    }
   ],
   "source": [
    "# Creating a tuple\n",
    "my_tuple = (1, 2, 3, 4, 5)\n",
    "print(my_tuple)\n",
    "\n",
    "# Indexing\n",
    "print(my_tuple[0]) #first element\n",
    "print(my_tuple[4]) #last element\n",
    "\n",
    "# Slicing\n",
    "print(my_tuple[1:3]) #elements 1 and 2\n",
    "print(my_tuple[2:]) #elements 2 to the end\n",
    "\n",
    "# Tuples are immutable\n",
    "# my_tuple[0] = 6 #this will cause an error"
   ]
  },
  {
   "cell_type": "markdown",
   "metadata": {},
   "source": [
    "## Part 2 - Logic Expressions\n",
    "\n",
    "Logic expressions are used to make decisions in your code."
   ]
  },
  {
   "cell_type": "code",
   "execution_count": 4,
   "metadata": {},
   "outputs": [
    {
     "name": "stdout",
     "output_type": "stream",
     "text": [
      "x is 5\n"
     ]
    }
   ],
   "source": [
    "# if statements are used to execute code if a condition is met\n",
    "# They are run and compiled in the order you define them from top to bottom\n",
    "\n",
    "x = 5 #change this value to other integers to see what happens!\n",
    "if x == 5: #note the double equals sign for logical comparison!\n",
    "    print(\"x is 5\")\n",
    "elif x == 6: #elif is short for \"else if\"\n",
    "    print(\"x is 6\")\n",
    "else: # if none of the above conditions are met\n",
    "    print(\"x is not 5 or 6\")"
   ]
  },
  {
   "cell_type": "code",
   "execution_count": 6,
   "metadata": {},
   "outputs": [
    {
     "name": "stdout",
     "output_type": "stream",
     "text": [
      "x is 5\n",
      "x is not 6\n"
     ]
    }
   ],
   "source": [
    "# if we stack two if statements together, the second one will not be affected by the first logic\n",
    "if x == 5:\n",
    "    print(\"x is 5\")\n",
    "if x != 6:\n",
    "    print(\"x is not 6\")"
   ]
  },
  {
   "cell_type": "code",
   "execution_count": null,
   "metadata": {},
   "outputs": [],
   "source": [
    "#nested if statements\n",
    "if x == 5:\n",
    "    if x != 6:\n",
    "        print(\"x is 5 and not 6\")\n"
   ]
  },
  {
   "cell_type": "markdown",
   "metadata": {},
   "source": [
    "## Part 3 - Loops\n",
    "\n",
    "When we want to repeat a set of operation many times, we use **loops** to automate the process."
   ]
  },
  {
   "cell_type": "code",
   "execution_count": null,
   "metadata": {},
   "outputs": [],
   "source": [
    "# for loops are used to iterate over a sequence of values\n",
    "# They are run and compiled in the order you define them from top to bottom\n",
    "\n",
    "# Iterate over defined range\n",
    "for i in range(5):\n",
    "    print(i)\n",
    "\n",
    "# We can also do this in reverse order:\n",
    "for i in range(5, 0, -1): #start value, end value, step size\n",
    "    print(i)\n",
    "\n",
    "# Iterate over a list\n",
    "for i in [1, 2, 3, 4, 5]:\n",
    "    print(i) #prints out each element of the list one at a time\n",
    "\n",
    "# Iterate over a dictionary\n",
    "for key in {\"a\": 1, \"b\": 2, \"c\": 3}:\n",
    "    print(key) #prints out each key of the dictionary one at a time\n"
   ]
  },
  {
   "cell_type": "code",
   "execution_count": null,
   "metadata": {},
   "outputs": [],
   "source": [
    "# while loops are used to execute code while a condition is met\n",
    "\n",
    "# Iterate while a condition is met\n",
    "i = 0\n",
    "while i < 5:\n",
    "    print(i)\n",
    "    i += 1 #this is the same as i = i + 1\n",
    "    #be very careful to avoid infinite loops! they will crash your program!\n",
    "\n",
    "# Iterate while a condition is met, and break when a condition is met\n",
    "i = 0\n",
    "while i < 5:\n",
    "    print(i)\n",
    "    i += 1\n",
    "    if i == 3:\n",
    "        break #breaks the loop"
   ]
  },
  {
   "cell_type": "markdown",
   "metadata": {},
   "source": [
    "## Part 4 - Code Blocking\n",
    "\n",
    "When we're working with a large program, it is ideal to avoid \"speghetti code\", aka lines of code everywhere. \n",
    "\n",
    "As well, a lot of the times we would like to use the same set of operations on different inputs; this is where code blocks come in handy."
   ]
  },
  {
   "cell_type": "markdown",
   "metadata": {},
   "source": [
    "### Functions\n",
    "\n",
    "Functions are coed blocks that can be called multiple times."
   ]
  },
  {
   "cell_type": "code",
   "execution_count": 1,
   "metadata": {},
   "outputs": [
    {
     "name": "stdout",
     "output_type": "stream",
     "text": [
      "2\n"
     ]
    }
   ],
   "source": [
    "# Defining a function\n",
    "def my_function(x):\n",
    "    return x + 1\n",
    "\n",
    "# Calling a function\n",
    "print(my_function(1))"
   ]
  },
  {
   "cell_type": "code",
   "execution_count": 2,
   "metadata": {},
   "outputs": [
    {
     "name": "stdout",
     "output_type": "stream",
     "text": [
      "9.666666666666666 8.333333333333334\n"
     ]
    }
   ],
   "source": [
    "# Defining a function with multiple arguments and return values\n",
    "def my_function(x, y):\n",
    "    z = x + y\n",
    "    return z, x - y\n",
    "\n",
    "# Calling a function\n",
    "z, w = my_function(3*3, 4/6) #note that we can assign multiple return values to multiple variables\n",
    "print(z, w)\n"
   ]
  },
  {
   "cell_type": "markdown",
   "metadata": {},
   "source": [
    "### Classes\n",
    "\n",
    "Classes are used to define objects, which have attributes (associated variables) and methods (associated functions).\n",
    "\n",
    "This way, we do not need to call multiple functions or definitions when we could just have it done in a package of code.\n",
    "\n",
    "(There are also Object Oriented Programming tricks you could do with Classes, though we won't touch up on those since they're not often used in Deep Learning.)\n"
   ]
  },
  {
   "cell_type": "code",
   "execution_count": 3,
   "metadata": {},
   "outputs": [
    {
     "name": "stdout",
     "output_type": "stream",
     "text": [
      "3\n",
      "1\n"
     ]
    }
   ],
   "source": [
    "# Defining a class\n",
    "class MyClass:\n",
    "    # this is the constructor; it is called when you create an instance of the class\n",
    "    # self is a reference to the current instance of the class and it must be the first parameter of any function in the class\n",
    "    def __init__(self, x, y): #x and y are the parameters of the constructor passed when you create an instance of the class\n",
    "        self.x = x #self.x is an attribute of the class\n",
    "        self.y = y\n",
    "\n",
    "    # Defining a method within the class\n",
    "    def my_function(self):\n",
    "        return self.x + self.y #note that we use self to access variables in the class\n",
    "    \n",
    "\n",
    "# Creating an instance of the class\n",
    "my_object = MyClass(1, 2)\n",
    "\n",
    "# Calling a function in the class\n",
    "print(my_object.my_function())\n",
    "\n",
    "# Accessing an attribute in the class\n",
    "print(my_object.x)\n",
    "\n",
    "# Note that we use the dot operator to access functions and attributes in classes."
   ]
  }
 ],
 "metadata": {
  "kernelspec": {
   "display_name": "Python 3.10.6 ('py310')",
   "language": "python",
   "name": "python3"
  },
  "language_info": {
   "codemirror_mode": {
    "name": "ipython",
    "version": 3
   },
   "file_extension": ".py",
   "mimetype": "text/x-python",
   "name": "python",
   "nbconvert_exporter": "python",
   "pygments_lexer": "ipython3",
   "version": "3.10.6"
  },
  "orig_nbformat": 4,
  "vscode": {
   "interpreter": {
    "hash": "1dd90ed194a3ae38b0eff763817ca93fe2bbd06cf5e4f855518f48eed923881c"
   }
  }
 },
 "nbformat": 4,
 "nbformat_minor": 2
}
